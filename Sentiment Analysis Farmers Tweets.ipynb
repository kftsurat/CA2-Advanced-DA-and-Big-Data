{
 "cells": [
  {
   "cell_type": "markdown",
   "metadata": {
    "id": "WF4Qh5xVqM4D"
   },
   "source": [
    "# Sentiment Analysis on Tweets\n"
   ]
  },
  {
   "cell_type": "markdown",
   "metadata": {
    "id": "-hBtFjjoqV2_"
   },
   "source": [
    "**Import All Required Packages**"
   ]
  },
  {
   "cell_type": "code",
   "execution_count": 1,
   "metadata": {
    "colab": {
     "base_uri": "https://localhost:8080/"
    },
    "id": "-sSRIdY1HZCS",
    "outputId": "ab15e23e-0924-42bb-c694-f4ddb58df4ef"
   },
   "outputs": [
    {
     "name": "stderr",
     "output_type": "stream",
     "text": [
      "[nltk_data] Downloading package stopwords to\n",
      "[nltk_data]     C:\\Users\\kftsu\\AppData\\Roaming\\nltk_data...\n",
      "[nltk_data]   Package stopwords is already up-to-date!\n"
     ]
    }
   ],
   "source": [
    "import pandas as pd\n",
    "import numpy as np\n",
    "import seaborn as sns\n",
    "import re\n",
    "import string\n",
    "from string import punctuation\n",
    "import nltk\n",
    "from nltk.corpus import stopwords\n",
    "nltk.download('stopwords')\n",
    "\n",
    "\n",
    "import matplotlib.pyplot as plt\n",
    "from sklearn.model_selection import train_test_split\n",
    "from sklearn.feature_extraction.text import CountVectorizer\n",
    "from sklearn.feature_extraction.text import TfidfTransformer\n",
    "\n",
    "import tensorflow as tf\n",
    "from tensorflow.keras.models import Sequential\n",
    "from tensorflow.keras.layers import Dense, Activation, Dropout\n",
    "from tensorflow.keras.callbacks import EarlyStopping"
   ]
  },
  {
   "cell_type": "code",
   "execution_count": 2,
   "metadata": {},
   "outputs": [
    {
     "name": "stdout",
     "output_type": "stream",
     "text": [
      "Requirement already satisfied: pymongo in c:\\users\\kftsu\\anaconda3\\lib\\site-packages (4.3.3)\n",
      "Requirement already satisfied: dnspython<3.0.0,>=1.16.0 in c:\\users\\kftsu\\anaconda3\\lib\\site-packages (from pymongo) (2.2.1)\n",
      "Note: you may need to restart the kernel to use updated packages.\n"
     ]
    }
   ],
   "source": [
    "pip install pymongo"
   ]
  },
  {
   "cell_type": "code",
   "execution_count": 3,
   "metadata": {},
   "outputs": [],
   "source": [
    "import pymongo\n",
    "\n",
    "myclient = pymongo.MongoClient(\"mongodb://localhost:27017/\")\n",
    "\n",
    "mydb = myclient[\"CA2\"]\n",
    "mycol = mydb[\"Tweets\"]"
   ]
  },
  {
   "cell_type": "code",
   "execution_count": 4,
   "metadata": {},
   "outputs": [
    {
     "name": "stdout",
     "output_type": "stream",
     "text": [
      "The database exists.\n"
     ]
    }
   ],
   "source": [
    "dblist = myclient.list_database_names()\n",
    "if \"CA2\" in dblist:\n",
    "  print(\"The database exists.\")"
   ]
  },
  {
   "cell_type": "code",
   "execution_count": 5,
   "metadata": {},
   "outputs": [
    {
     "name": "stdout",
     "output_type": "stream",
     "text": [
      "The collection exists.\n"
     ]
    }
   ],
   "source": [
    "collist = mydb.list_collection_names()\n",
    "if \"Tweets\" in collist:\n",
    "  print(\"The collection exists.\")"
   ]
  },
  {
   "cell_type": "markdown",
   "metadata": {
    "id": "YUH7jv5KrgG-"
   },
   "source": [
    "**Read data from csv**"
   ]
  },
  {
   "cell_type": "code",
   "execution_count": 6,
   "metadata": {
    "colab": {
     "base_uri": "https://localhost:8080/",
     "height": 306
    },
    "id": "aBdnYpaqqEfs",
    "outputId": "c4a417df-8a1e-42b2-de17-ed4e672cbbf3"
   },
   "outputs": [
    {
     "data": {
      "text/html": [
       "<div>\n",
       "<style scoped>\n",
       "    .dataframe tbody tr th:only-of-type {\n",
       "        vertical-align: middle;\n",
       "    }\n",
       "\n",
       "    .dataframe tbody tr th {\n",
       "        vertical-align: top;\n",
       "    }\n",
       "\n",
       "    .dataframe thead th {\n",
       "        text-align: right;\n",
       "    }\n",
       "</style>\n",
       "<table border=\"1\" class=\"dataframe\">\n",
       "  <thead>\n",
       "    <tr style=\"text-align: right;\">\n",
       "      <th></th>\n",
       "      <th>Date</th>\n",
       "      <th>ID</th>\n",
       "      <th>Tweet</th>\n",
       "    </tr>\n",
       "  </thead>\n",
       "  <tbody>\n",
       "    <tr>\n",
       "      <th>0</th>\n",
       "      <td>23/03/2020 02:30</td>\n",
       "      <td>1.380000e+18</td>\n",
       "      <td>Support \\ud83d\\udc47\\n\\n#FarmersProtest</td>\n",
       "    </tr>\n",
       "    <tr>\n",
       "      <th>1</th>\n",
       "      <td>24/03/2020 02:31</td>\n",
       "      <td>1.380000e+18</td>\n",
       "      <td>Supporting farmers means supporting our countr...</td>\n",
       "    </tr>\n",
       "    <tr>\n",
       "      <th>2</th>\n",
       "      <td>25/03/2020 02:31</td>\n",
       "      <td>1.380000e+18</td>\n",
       "      <td>Support farmers if you are related to food #St...</td>\n",
       "    </tr>\n",
       "    <tr>\n",
       "      <th>3</th>\n",
       "      <td>26/03/2020 02:32</td>\n",
       "      <td>1.380000e+18</td>\n",
       "      <td>#StopHateAgainstFarmers support #FarmersProtes...</td>\n",
       "    </tr>\n",
       "    <tr>\n",
       "      <th>4</th>\n",
       "      <td>27/03/2020 02:32</td>\n",
       "      <td>1.380000e+18</td>\n",
       "      <td>You hate farmers I hate you,  \\nif you love th...</td>\n",
       "    </tr>\n",
       "  </tbody>\n",
       "</table>\n",
       "</div>"
      ],
      "text/plain": [
       "               Date            ID  \\\n",
       "0  23/03/2020 02:30  1.380000e+18   \n",
       "1  24/03/2020 02:31  1.380000e+18   \n",
       "2  25/03/2020 02:31  1.380000e+18   \n",
       "3  26/03/2020 02:32  1.380000e+18   \n",
       "4  27/03/2020 02:32  1.380000e+18   \n",
       "\n",
       "                                               Tweet  \n",
       "0           Support \\ud83d\\udc47\\n\\n#FarmersProtest   \n",
       "1  Supporting farmers means supporting our countr...  \n",
       "2  Support farmers if you are related to food #St...  \n",
       "3  #StopHateAgainstFarmers support #FarmersProtes...  \n",
       "4  You hate farmers I hate you,  \\nif you love th...  "
      ]
     },
     "execution_count": 6,
     "metadata": {},
     "output_type": "execute_result"
    }
   ],
   "source": [
    "df = pd.read_csv(\"TweetsFarmers.csv\")\n",
    "df.head()"
   ]
  },
  {
   "cell_type": "markdown",
   "metadata": {
    "id": "N1DXfvBurnSO"
   },
   "source": [
    "**Drop unnecessary columns**"
   ]
  },
  {
   "cell_type": "code",
   "execution_count": 7,
   "metadata": {
    "id": "Gn_vu_gprlK1"
   },
   "outputs": [],
   "source": [
    "#df = df.drop(['Serial', 'Unnamed: 4', ], axis=1)\n",
    "#df.dropna(inplace=True)"
   ]
  },
  {
   "cell_type": "code",
   "execution_count": 8,
   "metadata": {},
   "outputs": [
    {
     "data": {
      "text/html": [
       "<div>\n",
       "<style scoped>\n",
       "    .dataframe tbody tr th:only-of-type {\n",
       "        vertical-align: middle;\n",
       "    }\n",
       "\n",
       "    .dataframe tbody tr th {\n",
       "        vertical-align: top;\n",
       "    }\n",
       "\n",
       "    .dataframe thead th {\n",
       "        text-align: right;\n",
       "    }\n",
       "</style>\n",
       "<table border=\"1\" class=\"dataframe\">\n",
       "  <thead>\n",
       "    <tr style=\"text-align: right;\">\n",
       "      <th></th>\n",
       "      <th>Date</th>\n",
       "      <th>ID</th>\n",
       "      <th>Tweet</th>\n",
       "    </tr>\n",
       "  </thead>\n",
       "  <tbody>\n",
       "    <tr>\n",
       "      <th>0</th>\n",
       "      <td>23/03/2020 02:30</td>\n",
       "      <td>1.380000e+18</td>\n",
       "      <td>Support \\ud83d\\udc47\\n\\n#FarmersProtest</td>\n",
       "    </tr>\n",
       "    <tr>\n",
       "      <th>1</th>\n",
       "      <td>24/03/2020 02:31</td>\n",
       "      <td>1.380000e+18</td>\n",
       "      <td>Supporting farmers means supporting our countr...</td>\n",
       "    </tr>\n",
       "    <tr>\n",
       "      <th>2</th>\n",
       "      <td>25/03/2020 02:31</td>\n",
       "      <td>1.380000e+18</td>\n",
       "      <td>Support farmers if you are related to food #St...</td>\n",
       "    </tr>\n",
       "    <tr>\n",
       "      <th>3</th>\n",
       "      <td>26/03/2020 02:32</td>\n",
       "      <td>1.380000e+18</td>\n",
       "      <td>#StopHateAgainstFarmers support #FarmersProtes...</td>\n",
       "    </tr>\n",
       "    <tr>\n",
       "      <th>4</th>\n",
       "      <td>27/03/2020 02:32</td>\n",
       "      <td>1.380000e+18</td>\n",
       "      <td>You hate farmers I hate you,  \\nif you love th...</td>\n",
       "    </tr>\n",
       "  </tbody>\n",
       "</table>\n",
       "</div>"
      ],
      "text/plain": [
       "               Date            ID  \\\n",
       "0  23/03/2020 02:30  1.380000e+18   \n",
       "1  24/03/2020 02:31  1.380000e+18   \n",
       "2  25/03/2020 02:31  1.380000e+18   \n",
       "3  26/03/2020 02:32  1.380000e+18   \n",
       "4  27/03/2020 02:32  1.380000e+18   \n",
       "\n",
       "                                               Tweet  \n",
       "0           Support \\ud83d\\udc47\\n\\n#FarmersProtest   \n",
       "1  Supporting farmers means supporting our countr...  \n",
       "2  Support farmers if you are related to food #St...  \n",
       "3  #StopHateAgainstFarmers support #FarmersProtes...  \n",
       "4  You hate farmers I hate you,  \\nif you love th...  "
      ]
     },
     "execution_count": 8,
     "metadata": {},
     "output_type": "execute_result"
    }
   ],
   "source": [
    "df.head()"
   ]
  },
  {
   "cell_type": "code",
   "execution_count": 9,
   "metadata": {},
   "outputs": [],
   "source": [
    "df['word_count'] = df['Tweet'].apply(lambda x: len(str(x).split(\" \")))"
   ]
  },
  {
   "cell_type": "code",
   "execution_count": 10,
   "metadata": {},
   "outputs": [
    {
     "data": {
      "text/html": [
       "<div>\n",
       "<style scoped>\n",
       "    .dataframe tbody tr th:only-of-type {\n",
       "        vertical-align: middle;\n",
       "    }\n",
       "\n",
       "    .dataframe tbody tr th {\n",
       "        vertical-align: top;\n",
       "    }\n",
       "\n",
       "    .dataframe thead th {\n",
       "        text-align: right;\n",
       "    }\n",
       "</style>\n",
       "<table border=\"1\" class=\"dataframe\">\n",
       "  <thead>\n",
       "    <tr style=\"text-align: right;\">\n",
       "      <th></th>\n",
       "      <th>Tweet</th>\n",
       "      <th>word_count</th>\n",
       "    </tr>\n",
       "  </thead>\n",
       "  <tbody>\n",
       "    <tr>\n",
       "      <th>0</th>\n",
       "      <td>Support \\ud83d\\udc47\\n\\n#FarmersProtest</td>\n",
       "      <td>3</td>\n",
       "    </tr>\n",
       "    <tr>\n",
       "      <th>1</th>\n",
       "      <td>Supporting farmers means supporting our countr...</td>\n",
       "      <td>10</td>\n",
       "    </tr>\n",
       "    <tr>\n",
       "      <th>2</th>\n",
       "      <td>Support farmers if you are related to food #St...</td>\n",
       "      <td>12</td>\n",
       "    </tr>\n",
       "    <tr>\n",
       "      <th>3</th>\n",
       "      <td>#StopHateAgainstFarmers support #FarmersProtes...</td>\n",
       "      <td>12</td>\n",
       "    </tr>\n",
       "    <tr>\n",
       "      <th>4</th>\n",
       "      <td>You hate farmers I hate you,  \\nif you love th...</td>\n",
       "      <td>17</td>\n",
       "    </tr>\n",
       "  </tbody>\n",
       "</table>\n",
       "</div>"
      ],
      "text/plain": [
       "                                               Tweet  word_count\n",
       "0           Support \\ud83d\\udc47\\n\\n#FarmersProtest            3\n",
       "1  Supporting farmers means supporting our countr...          10\n",
       "2  Support farmers if you are related to food #St...          12\n",
       "3  #StopHateAgainstFarmers support #FarmersProtes...          12\n",
       "4  You hate farmers I hate you,  \\nif you love th...          17"
      ]
     },
     "execution_count": 10,
     "metadata": {},
     "output_type": "execute_result"
    }
   ],
   "source": [
    "# adding a column for the number of words of the review\n",
    "df[['Tweet','word_count']].head()"
   ]
  },
  {
   "cell_type": "code",
   "execution_count": 11,
   "metadata": {},
   "outputs": [],
   "source": [
    "df['char_count'] = df['Tweet'].str.len() "
   ]
  },
  {
   "cell_type": "code",
   "execution_count": 12,
   "metadata": {},
   "outputs": [
    {
     "data": {
      "text/html": [
       "<div>\n",
       "<style scoped>\n",
       "    .dataframe tbody tr th:only-of-type {\n",
       "        vertical-align: middle;\n",
       "    }\n",
       "\n",
       "    .dataframe tbody tr th {\n",
       "        vertical-align: top;\n",
       "    }\n",
       "\n",
       "    .dataframe thead th {\n",
       "        text-align: right;\n",
       "    }\n",
       "</style>\n",
       "<table border=\"1\" class=\"dataframe\">\n",
       "  <thead>\n",
       "    <tr style=\"text-align: right;\">\n",
       "      <th></th>\n",
       "      <th>Tweet</th>\n",
       "      <th>char_count</th>\n",
       "    </tr>\n",
       "  </thead>\n",
       "  <tbody>\n",
       "    <tr>\n",
       "      <th>0</th>\n",
       "      <td>Support \\ud83d\\udc47\\n\\n#FarmersProtest</td>\n",
       "      <td>40</td>\n",
       "    </tr>\n",
       "    <tr>\n",
       "      <th>1</th>\n",
       "      <td>Supporting farmers means supporting our countr...</td>\n",
       "      <td>112</td>\n",
       "    </tr>\n",
       "    <tr>\n",
       "      <th>2</th>\n",
       "      <td>Support farmers if you are related to food #St...</td>\n",
       "      <td>107</td>\n",
       "    </tr>\n",
       "    <tr>\n",
       "      <th>3</th>\n",
       "      <td>#StopHateAgainstFarmers support #FarmersProtes...</td>\n",
       "      <td>104</td>\n",
       "    </tr>\n",
       "    <tr>\n",
       "      <th>4</th>\n",
       "      <td>You hate farmers I hate you,  \\nif you love th...</td>\n",
       "      <td>109</td>\n",
       "    </tr>\n",
       "  </tbody>\n",
       "</table>\n",
       "</div>"
      ],
      "text/plain": [
       "                                               Tweet  char_count\n",
       "0           Support \\ud83d\\udc47\\n\\n#FarmersProtest           40\n",
       "1  Supporting farmers means supporting our countr...         112\n",
       "2  Support farmers if you are related to food #St...         107\n",
       "3  #StopHateAgainstFarmers support #FarmersProtes...         104\n",
       "4  You hate farmers I hate you,  \\nif you love th...         109"
      ]
     },
     "execution_count": 12,
     "metadata": {},
     "output_type": "execute_result"
    }
   ],
   "source": [
    "# Adding a column for the number of characters of the review. This also includes spaces\n",
    "\n",
    "df[['Tweet','char_count']].head()"
   ]
  },
  {
   "cell_type": "code",
   "execution_count": 13,
   "metadata": {},
   "outputs": [
    {
     "data": {
      "text/html": [
       "<div>\n",
       "<style scoped>\n",
       "    .dataframe tbody tr th:only-of-type {\n",
       "        vertical-align: middle;\n",
       "    }\n",
       "\n",
       "    .dataframe tbody tr th {\n",
       "        vertical-align: top;\n",
       "    }\n",
       "\n",
       "    .dataframe thead th {\n",
       "        text-align: right;\n",
       "    }\n",
       "</style>\n",
       "<table border=\"1\" class=\"dataframe\">\n",
       "  <thead>\n",
       "    <tr style=\"text-align: right;\">\n",
       "      <th></th>\n",
       "      <th>Date</th>\n",
       "      <th>ID</th>\n",
       "      <th>Tweet</th>\n",
       "      <th>word_count</th>\n",
       "      <th>char_count</th>\n",
       "    </tr>\n",
       "  </thead>\n",
       "  <tbody>\n",
       "    <tr>\n",
       "      <th>0</th>\n",
       "      <td>23/03/2020 02:30</td>\n",
       "      <td>1.380000e+18</td>\n",
       "      <td>Support \\ud83d\\udc47\\n\\n#FarmersProtest</td>\n",
       "      <td>3</td>\n",
       "      <td>40</td>\n",
       "    </tr>\n",
       "    <tr>\n",
       "      <th>1</th>\n",
       "      <td>24/03/2020 02:31</td>\n",
       "      <td>1.380000e+18</td>\n",
       "      <td>Supporting farmers means supporting our countr...</td>\n",
       "      <td>10</td>\n",
       "      <td>112</td>\n",
       "    </tr>\n",
       "    <tr>\n",
       "      <th>2</th>\n",
       "      <td>25/03/2020 02:31</td>\n",
       "      <td>1.380000e+18</td>\n",
       "      <td>Support farmers if you are related to food #St...</td>\n",
       "      <td>12</td>\n",
       "      <td>107</td>\n",
       "    </tr>\n",
       "    <tr>\n",
       "      <th>3</th>\n",
       "      <td>26/03/2020 02:32</td>\n",
       "      <td>1.380000e+18</td>\n",
       "      <td>#StopHateAgainstFarmers support #FarmersProtes...</td>\n",
       "      <td>12</td>\n",
       "      <td>104</td>\n",
       "    </tr>\n",
       "    <tr>\n",
       "      <th>4</th>\n",
       "      <td>27/03/2020 02:32</td>\n",
       "      <td>1.380000e+18</td>\n",
       "      <td>You hate farmers I hate you,  \\nif you love th...</td>\n",
       "      <td>17</td>\n",
       "      <td>109</td>\n",
       "    </tr>\n",
       "  </tbody>\n",
       "</table>\n",
       "</div>"
      ],
      "text/plain": [
       "               Date            ID  \\\n",
       "0  23/03/2020 02:30  1.380000e+18   \n",
       "1  24/03/2020 02:31  1.380000e+18   \n",
       "2  25/03/2020 02:31  1.380000e+18   \n",
       "3  26/03/2020 02:32  1.380000e+18   \n",
       "4  27/03/2020 02:32  1.380000e+18   \n",
       "\n",
       "                                               Tweet  word_count  char_count  \n",
       "0           Support \\ud83d\\udc47\\n\\n#FarmersProtest            3          40  \n",
       "1  Supporting farmers means supporting our countr...          10         112  \n",
       "2  Support farmers if you are related to food #St...          12         107  \n",
       "3  #StopHateAgainstFarmers support #FarmersProtes...          12         104  \n",
       "4  You hate farmers I hate you,  \\nif you love th...          17         109  "
      ]
     },
     "execution_count": 13,
     "metadata": {},
     "output_type": "execute_result"
    }
   ],
   "source": [
    "df.head()"
   ]
  },
  {
   "cell_type": "markdown",
   "metadata": {},
   "source": [
    "#### Natural Language Processing"
   ]
  },
  {
   "cell_type": "code",
   "execution_count": 14,
   "metadata": {},
   "outputs": [
    {
     "name": "stderr",
     "output_type": "stream",
     "text": [
      "[nltk_data] Downloading package stopwords to\n",
      "[nltk_data]     C:\\Users\\kftsu\\AppData\\Roaming\\nltk_data...\n",
      "[nltk_data]   Package stopwords is already up-to-date!\n"
     ]
    },
    {
     "data": {
      "text/plain": [
       "True"
      ]
     },
     "execution_count": 14,
     "metadata": {},
     "output_type": "execute_result"
    }
   ],
   "source": [
    "import nltk\n",
    "nltk.download('stopwords')"
   ]
  },
  {
   "cell_type": "markdown",
   "metadata": {},
   "source": [
    "<font color = red> *This means there are stopwords in the reviews.\n",
    "I wanted to look at the stopwords."
   ]
  },
  {
   "cell_type": "code",
   "execution_count": 15,
   "metadata": {},
   "outputs": [],
   "source": [
    "from nltk.corpus import stopwords\n",
    "stop = stopwords.words('english')"
   ]
  },
  {
   "cell_type": "code",
   "execution_count": 16,
   "metadata": {},
   "outputs": [
    {
     "data": {
      "text/html": [
       "<div>\n",
       "<style scoped>\n",
       "    .dataframe tbody tr th:only-of-type {\n",
       "        vertical-align: middle;\n",
       "    }\n",
       "\n",
       "    .dataframe tbody tr th {\n",
       "        vertical-align: top;\n",
       "    }\n",
       "\n",
       "    .dataframe thead th {\n",
       "        text-align: right;\n",
       "    }\n",
       "</style>\n",
       "<table border=\"1\" class=\"dataframe\">\n",
       "  <thead>\n",
       "    <tr style=\"text-align: right;\">\n",
       "      <th></th>\n",
       "      <th>Tweet</th>\n",
       "      <th>stopwords</th>\n",
       "    </tr>\n",
       "  </thead>\n",
       "  <tbody>\n",
       "    <tr>\n",
       "      <th>0</th>\n",
       "      <td>Support \\ud83d\\udc47\\n\\n#FarmersProtest</td>\n",
       "      <td>0</td>\n",
       "    </tr>\n",
       "    <tr>\n",
       "      <th>1</th>\n",
       "      <td>Supporting farmers means supporting our countr...</td>\n",
       "      <td>1</td>\n",
       "    </tr>\n",
       "    <tr>\n",
       "      <th>2</th>\n",
       "      <td>Support farmers if you are related to food #St...</td>\n",
       "      <td>4</td>\n",
       "    </tr>\n",
       "    <tr>\n",
       "      <th>3</th>\n",
       "      <td>#StopHateAgainstFarmers support #FarmersProtes...</td>\n",
       "      <td>2</td>\n",
       "    </tr>\n",
       "    <tr>\n",
       "      <th>4</th>\n",
       "      <td>You hate farmers I hate you,  \\nif you love th...</td>\n",
       "      <td>2</td>\n",
       "    </tr>\n",
       "  </tbody>\n",
       "</table>\n",
       "</div>"
      ],
      "text/plain": [
       "                                               Tweet  stopwords\n",
       "0           Support \\ud83d\\udc47\\n\\n#FarmersProtest           0\n",
       "1  Supporting farmers means supporting our countr...          1\n",
       "2  Support farmers if you are related to food #St...          4\n",
       "3  #StopHateAgainstFarmers support #FarmersProtes...          2\n",
       "4  You hate farmers I hate you,  \\nif you love th...          2"
      ]
     },
     "execution_count": 16,
     "metadata": {},
     "output_type": "execute_result"
    }
   ],
   "source": [
    "#Counting the number of stop words\n",
    "\n",
    "df['stopwords'] = df['Tweet'].apply(lambda x: len([x for x in x.split() if x in stop]))\n",
    "df[['Tweet','stopwords']].head()"
   ]
  },
  {
   "cell_type": "code",
   "execution_count": 17,
   "metadata": {},
   "outputs": [
    {
     "data": {
      "text/html": [
       "<div>\n",
       "<style scoped>\n",
       "    .dataframe tbody tr th:only-of-type {\n",
       "        vertical-align: middle;\n",
       "    }\n",
       "\n",
       "    .dataframe tbody tr th {\n",
       "        vertical-align: top;\n",
       "    }\n",
       "\n",
       "    .dataframe thead th {\n",
       "        text-align: right;\n",
       "    }\n",
       "</style>\n",
       "<table border=\"1\" class=\"dataframe\">\n",
       "  <thead>\n",
       "    <tr style=\"text-align: right;\">\n",
       "      <th></th>\n",
       "      <th>Tweet</th>\n",
       "      <th>hastags</th>\n",
       "    </tr>\n",
       "  </thead>\n",
       "  <tbody>\n",
       "    <tr>\n",
       "      <th>0</th>\n",
       "      <td>Support \\ud83d\\udc47\\n\\n#FarmersProtest</td>\n",
       "      <td>0</td>\n",
       "    </tr>\n",
       "    <tr>\n",
       "      <th>1</th>\n",
       "      <td>Supporting farmers means supporting our countr...</td>\n",
       "      <td>2</td>\n",
       "    </tr>\n",
       "    <tr>\n",
       "      <th>2</th>\n",
       "      <td>Support farmers if you are related to food #St...</td>\n",
       "      <td>2</td>\n",
       "    </tr>\n",
       "    <tr>\n",
       "      <th>3</th>\n",
       "      <td>#StopHateAgainstFarmers support #FarmersProtes...</td>\n",
       "      <td>2</td>\n",
       "    </tr>\n",
       "    <tr>\n",
       "      <th>4</th>\n",
       "      <td>You hate farmers I hate you,  \\nif you love th...</td>\n",
       "      <td>0</td>\n",
       "    </tr>\n",
       "  </tbody>\n",
       "</table>\n",
       "</div>"
      ],
      "text/plain": [
       "                                               Tweet  hastags\n",
       "0           Support \\ud83d\\udc47\\n\\n#FarmersProtest         0\n",
       "1  Supporting farmers means supporting our countr...        2\n",
       "2  Support farmers if you are related to food #St...        2\n",
       "3  #StopHateAgainstFarmers support #FarmersProtes...        2\n",
       "4  You hate farmers I hate you,  \\nif you love th...        0"
      ]
     },
     "execution_count": 17,
     "metadata": {},
     "output_type": "execute_result"
    }
   ],
   "source": [
    "#Counting number of hashtags present in the review\n",
    "\n",
    "df['hastags'] = df['Tweet'].apply(lambda x: len([x for x in x.split() if x.startswith('#')]))\n",
    "df[['Tweet','hastags']].head()"
   ]
  },
  {
   "cell_type": "code",
   "execution_count": 18,
   "metadata": {},
   "outputs": [
    {
     "data": {
      "text/html": [
       "<div>\n",
       "<style scoped>\n",
       "    .dataframe tbody tr th:only-of-type {\n",
       "        vertical-align: middle;\n",
       "    }\n",
       "\n",
       "    .dataframe tbody tr th {\n",
       "        vertical-align: top;\n",
       "    }\n",
       "\n",
       "    .dataframe thead th {\n",
       "        text-align: right;\n",
       "    }\n",
       "</style>\n",
       "<table border=\"1\" class=\"dataframe\">\n",
       "  <thead>\n",
       "    <tr style=\"text-align: right;\">\n",
       "      <th></th>\n",
       "      <th>Tweet</th>\n",
       "      <th>numerics</th>\n",
       "    </tr>\n",
       "  </thead>\n",
       "  <tbody>\n",
       "    <tr>\n",
       "      <th>0</th>\n",
       "      <td>Support \\ud83d\\udc47\\n\\n#FarmersProtest</td>\n",
       "      <td>0</td>\n",
       "    </tr>\n",
       "    <tr>\n",
       "      <th>1</th>\n",
       "      <td>Supporting farmers means supporting our countr...</td>\n",
       "      <td>0</td>\n",
       "    </tr>\n",
       "    <tr>\n",
       "      <th>2</th>\n",
       "      <td>Support farmers if you are related to food #St...</td>\n",
       "      <td>0</td>\n",
       "    </tr>\n",
       "    <tr>\n",
       "      <th>3</th>\n",
       "      <td>#StopHateAgainstFarmers support #FarmersProtes...</td>\n",
       "      <td>0</td>\n",
       "    </tr>\n",
       "    <tr>\n",
       "      <th>4</th>\n",
       "      <td>You hate farmers I hate you,  \\nif you love th...</td>\n",
       "      <td>0</td>\n",
       "    </tr>\n",
       "  </tbody>\n",
       "</table>\n",
       "</div>"
      ],
      "text/plain": [
       "                                               Tweet  numerics\n",
       "0           Support \\ud83d\\udc47\\n\\n#FarmersProtest          0\n",
       "1  Supporting farmers means supporting our countr...         0\n",
       "2  Support farmers if you are related to food #St...         0\n",
       "3  #StopHateAgainstFarmers support #FarmersProtes...         0\n",
       "4  You hate farmers I hate you,  \\nif you love th...         0"
      ]
     },
     "execution_count": 18,
     "metadata": {},
     "output_type": "execute_result"
    }
   ],
   "source": [
    "# Counting the numerics in the review\n",
    "\n",
    "df['numerics'] = df['Tweet'].apply(lambda x: len([x for x in x.split() if x.isdigit()]))\n",
    "df[['Tweet','numerics']].head()"
   ]
  },
  {
   "cell_type": "code",
   "execution_count": 19,
   "metadata": {},
   "outputs": [
    {
     "data": {
      "text/html": [
       "<div>\n",
       "<style scoped>\n",
       "    .dataframe tbody tr th:only-of-type {\n",
       "        vertical-align: middle;\n",
       "    }\n",
       "\n",
       "    .dataframe tbody tr th {\n",
       "        vertical-align: top;\n",
       "    }\n",
       "\n",
       "    .dataframe thead th {\n",
       "        text-align: right;\n",
       "    }\n",
       "</style>\n",
       "<table border=\"1\" class=\"dataframe\">\n",
       "  <thead>\n",
       "    <tr style=\"text-align: right;\">\n",
       "      <th></th>\n",
       "      <th>Tweet</th>\n",
       "      <th>upper</th>\n",
       "    </tr>\n",
       "  </thead>\n",
       "  <tbody>\n",
       "    <tr>\n",
       "      <th>0</th>\n",
       "      <td>Support \\ud83d\\udc47\\n\\n#FarmersProtest</td>\n",
       "      <td>0</td>\n",
       "    </tr>\n",
       "    <tr>\n",
       "      <th>1</th>\n",
       "      <td>Supporting farmers means supporting our countr...</td>\n",
       "      <td>0</td>\n",
       "    </tr>\n",
       "    <tr>\n",
       "      <th>2</th>\n",
       "      <td>Support farmers if you are related to food #St...</td>\n",
       "      <td>0</td>\n",
       "    </tr>\n",
       "    <tr>\n",
       "      <th>3</th>\n",
       "      <td>#StopHateAgainstFarmers support #FarmersProtes...</td>\n",
       "      <td>0</td>\n",
       "    </tr>\n",
       "    <tr>\n",
       "      <th>4</th>\n",
       "      <td>You hate farmers I hate you,  \\nif you love th...</td>\n",
       "      <td>2</td>\n",
       "    </tr>\n",
       "  </tbody>\n",
       "</table>\n",
       "</div>"
      ],
      "text/plain": [
       "                                               Tweet  upper\n",
       "0           Support \\ud83d\\udc47\\n\\n#FarmersProtest       0\n",
       "1  Supporting farmers means supporting our countr...      0\n",
       "2  Support farmers if you are related to food #St...      0\n",
       "3  #StopHateAgainstFarmers support #FarmersProtes...      0\n",
       "4  You hate farmers I hate you,  \\nif you love th...      2"
      ]
     },
     "execution_count": 19,
     "metadata": {},
     "output_type": "execute_result"
    }
   ],
   "source": [
    "# number of uppercases present in reviews\n",
    "\n",
    "df['upper'] = df['Tweet'].apply(lambda x: len([x for x in x.split() if x.isupper()]))\n",
    "df[['Tweet','upper']].head()"
   ]
  },
  {
   "cell_type": "markdown",
   "metadata": {},
   "source": [
    "I wanted to transform uppercases to lowercase to avoid having multiple copies of the same words."
   ]
  },
  {
   "cell_type": "code",
   "execution_count": 20,
   "metadata": {},
   "outputs": [
    {
     "data": {
      "text/plain": [
       "0              support \\ud83d\\udc47\\n\\n#farmersprotest\n",
       "1    supporting farmers means supporting our countr...\n",
       "2    support farmers if you are related to food #st...\n",
       "3    #stophateagainstfarmers support #farmersprotes...\n",
       "4    you hate farmers i hate you, \\nif you love the...\n",
       "Name: Tweet, dtype: object"
      ]
     },
     "execution_count": 20,
     "metadata": {},
     "output_type": "execute_result"
    }
   ],
   "source": [
    "#transforming uppercases to lowercase\n",
    "\n",
    "df['Tweet'] = df['Tweet'].apply(lambda x: \" \".join(x.lower() for x in x.split()))\n",
    "df['Tweet'].head()"
   ]
  },
  {
   "cell_type": "markdown",
   "metadata": {},
   "source": [
    "I wanted to remove special characters in the reviews."
   ]
  },
  {
   "cell_type": "code",
   "execution_count": 21,
   "metadata": {},
   "outputs": [
    {
     "name": "stderr",
     "output_type": "stream",
     "text": [
      "C:\\Users\\kftsu\\AppData\\Local\\Temp\\ipykernel_15104\\1614436818.py:3: FutureWarning: The default value of regex will change from True to False in a future version.\n",
      "  df['Tweet'] = df['Tweet'].str.replace('[^\\w\\s\\_\\!]','')\n"
     ]
    },
    {
     "data": {
      "text/plain": [
       "0                   support ud83dudc47nnfarmersprotest\n",
       "1    supporting farmers means supporting our countr...\n",
       "2    support farmers if you are related to food sto...\n",
       "3    stophateagainstfarmers support farmersprotest ...\n",
       "4    you hate farmers i hate you nif you love them ...\n",
       "Name: Tweet, dtype: object"
      ]
     },
     "execution_count": 21,
     "metadata": {},
     "output_type": "execute_result"
    }
   ],
   "source": [
    "#removing special characters\n",
    "\n",
    "df['Tweet'] = df['Tweet'].str.replace('[^\\w\\s\\_\\!]','')\n",
    "df['Tweet'].head()"
   ]
  },
  {
   "cell_type": "markdown",
   "metadata": {},
   "source": [
    "I wanted to make a list of stopwords so I can remove them."
   ]
  },
  {
   "cell_type": "code",
   "execution_count": 22,
   "metadata": {},
   "outputs": [
    {
     "data": {
      "text/plain": [
       "0                   support ud83dudc47nnfarmersprotest\n",
       "1    supporting farmers means supporting country st...\n",
       "2    support farmers related food stophateagainstfa...\n",
       "3    stophateagainstfarmers support farmersprotest ...\n",
       "4    hate farmers hate nif love love you! nnstophat...\n",
       "Name: Tweet, dtype: object"
      ]
     },
     "execution_count": 22,
     "metadata": {},
     "output_type": "execute_result"
    }
   ],
   "source": [
    "from nltk.corpus import stopwords\n",
    "stop = stopwords.words('english')\n",
    "df['Tweet'] = df['Tweet'].apply(lambda x: \" \".join(x for x in x.split() if x not in stop))\n",
    "df['Tweet'].head()"
   ]
  },
  {
   "cell_type": "markdown",
   "metadata": {},
   "source": [
    "I wanted to remove the common words"
   ]
  },
  {
   "cell_type": "code",
   "execution_count": 23,
   "metadata": {},
   "outputs": [
    {
     "data": {
      "text/plain": [
       "farmersprotest                                       349\n",
       "farmers                                              331\n",
       "farmer                                               276\n",
       "amp                                                  183\n",
       "stophateagainstfarmers                               161\n",
       "bjp                                                  108\n",
       "nnfarmersprotest                                      92\n",
       "nfarmersprotest                                       89\n",
       "u0939u0930_u0915u093fu0938u093eu0928_bhagat_singh     78\n",
       "together                                              74\n",
       "dtype: int64"
      ]
     },
     "execution_count": 23,
     "metadata": {},
     "output_type": "execute_result"
    }
   ],
   "source": [
    "#count of common words\n",
    "freq = pd.Series(' '.join(df['Tweet']).split()).value_counts()[:10]\n",
    "freq"
   ]
  },
  {
   "cell_type": "code",
   "execution_count": 24,
   "metadata": {},
   "outputs": [
    {
     "data": {
      "text/plain": [
       "0                   support ud83dudc47nnfarmersprotest\n",
       "1    supporting means supporting country httpstcoiw...\n",
       "2              support related food httpstcotcozx4zmyu\n",
       "3       support pressurising got accept genuine demand\n",
       "4    hate hate nif love love you! nnstophateagainst...\n",
       "Name: Tweet, dtype: object"
      ]
     },
     "execution_count": 24,
     "metadata": {},
     "output_type": "execute_result"
    }
   ],
   "source": [
    "#Removing the most common words\n",
    "\n",
    "freq = list(freq.index)\n",
    "df['Tweet'] = df['Tweet'].apply(lambda x: \" \".join(x for x in x.split() if x not in freq))\n",
    "df['Tweet'].head()"
   ]
  },
  {
   "cell_type": "markdown",
   "metadata": {},
   "source": [
    "We can see that the common words are removed as their presence will not of any use in classification of my text data.\n",
    "\n",
    "Next, I wanted to remove the rare words. This is because the association between these rare words and other words is dominated by noise."
   ]
  },
  {
   "cell_type": "code",
   "execution_count": 25,
   "metadata": {},
   "outputs": [
    {
     "data": {
      "text/plain": [
       "guilty                1\n",
       "silent                1\n",
       "remain                1\n",
       "relationship          1\n",
       "developed             1\n",
       "maharaj               1\n",
       "gobind                1\n",
       "rider!                1\n",
       "depicts               1\n",
       "httpstcoohx2pow0gq    1\n",
       "dtype: int64"
      ]
     },
     "execution_count": 25,
     "metadata": {},
     "output_type": "execute_result"
    }
   ],
   "source": [
    "freq = pd.Series(' '.join(df['Tweet']).split()).value_counts()[-10:]\n",
    "freq"
   ]
  },
  {
   "cell_type": "code",
   "execution_count": 26,
   "metadata": {},
   "outputs": [
    {
     "data": {
      "text/plain": [
       "0                   support ud83dudc47nnfarmersprotest\n",
       "1    supporting means supporting country httpstcoiw...\n",
       "2              support related food httpstcotcozx4zmyu\n",
       "3       support pressurising got accept genuine demand\n",
       "4    hate hate nif love love you! nnstophateagainst...\n",
       "Name: Tweet, dtype: object"
      ]
     },
     "execution_count": 26,
     "metadata": {},
     "output_type": "execute_result"
    }
   ],
   "source": [
    "#Removing the most rare words\n",
    "\n",
    "freq = list(freq.index)\n",
    "df['Tweet'] = df['Tweet'].apply(lambda x: \" \".join(x for x in x.split() if x not in freq))\n",
    "df['Tweet'].head()"
   ]
  },
  {
   "cell_type": "markdown",
   "metadata": {},
   "source": [
    "I wanted to correct spelling of the reviews."
   ]
  },
  {
   "cell_type": "code",
   "execution_count": 27,
   "metadata": {},
   "outputs": [
    {
     "data": {
      "text/plain": [
       "0                   support ud83dudc47nnfarmersprotest\n",
       "1    supporting means supporting country httpstcoiw...\n",
       "2              support related food httpstcotcozx4zmyu\n",
       "3       support pressurising got accept genuine demand\n",
       "4    hate hate if love love you! nnstophateagainstf...\n",
       "Name: Tweet, dtype: object"
      ]
     },
     "execution_count": 27,
     "metadata": {},
     "output_type": "execute_result"
    }
   ],
   "source": [
    "#correcting spelling\n",
    "\n",
    "from textblob import TextBlob\n",
    "df['Tweet'][:5].apply(lambda x: str(TextBlob(x).correct()))\n"
   ]
  },
  {
   "cell_type": "markdown",
   "metadata": {},
   "source": [
    "#### Tokenization\n",
    "\n",
    "-dividing the text into a sequence of words or sentences."
   ]
  },
  {
   "cell_type": "code",
   "execution_count": 28,
   "metadata": {},
   "outputs": [
    {
     "name": "stderr",
     "output_type": "stream",
     "text": [
      "[nltk_data] Downloading package punkt to\n",
      "[nltk_data]     C:\\Users\\kftsu\\AppData\\Roaming\\nltk_data...\n",
      "[nltk_data]   Package punkt is already up-to-date!\n"
     ]
    },
    {
     "data": {
      "text/plain": [
       "WordList(['supporting', 'means', 'supporting', 'country', 'httpstcoiwpattk6nv'])"
      ]
     },
     "execution_count": 28,
     "metadata": {},
     "output_type": "execute_result"
    }
   ],
   "source": [
    "nltk.download('punkt')\n",
    "TextBlob(df['Tweet'][1]).words"
   ]
  },
  {
   "cell_type": "markdown",
   "metadata": {},
   "source": [
    "##### Stemming\n",
    "\n",
    "-removal of suffices, like “ing”, “ly”, “s”, etc. by a simple rule-based approach. For this purpose, I will use PorterStemmer from the NLTK library. "
   ]
  },
  {
   "cell_type": "code",
   "execution_count": 29,
   "metadata": {},
   "outputs": [
    {
     "data": {
      "text/plain": [
       "0                   support ud83dudc47nnfarmersprotest\n",
       "1      support mean support countri httpstcoiwpattk6nv\n",
       "2                support relat food httpstcotcozx4zmyu\n",
       "3           support pressuris got accept genuin demand\n",
       "4    hate hate nif love love you! nnstophateagainst...\n",
       "Name: Tweet, dtype: object"
      ]
     },
     "execution_count": 29,
     "metadata": {},
     "output_type": "execute_result"
    }
   ],
   "source": [
    "#Stemming\n",
    "\n",
    "from nltk.stem import PorterStemmer\n",
    "st = PorterStemmer()\n",
    "df['Tweet'][:5].apply(lambda x: \" \".join([st.stem(word) for word in x.split()]))"
   ]
  },
  {
   "cell_type": "markdown",
   "metadata": {},
   "source": [
    "##### Lemmatization\n",
    "\n",
    "-converts the word into its root word, rather than just stripping the suffices. It makes use of the vocabulary and does a morphological analysis to obtain the root word"
   ]
  },
  {
   "cell_type": "code",
   "execution_count": 30,
   "metadata": {},
   "outputs": [
    {
     "name": "stderr",
     "output_type": "stream",
     "text": [
      "[nltk_data] Downloading package wordnet to\n",
      "[nltk_data]     C:\\Users\\kftsu\\AppData\\Roaming\\nltk_data...\n",
      "[nltk_data]   Package wordnet is already up-to-date!\n"
     ]
    },
    {
     "data": {
      "text/plain": [
       "0                   support ud83dudc47nnfarmersprotest\n",
       "1    supporting mean supporting country httpstcoiwp...\n",
       "2              support related food httpstcotcozx4zmyu\n",
       "3       support pressurising got accept genuine demand\n",
       "4    hate hate nif love love you! nnstophateagainst...\n",
       "Name: Tweet, dtype: object"
      ]
     },
     "execution_count": 30,
     "metadata": {},
     "output_type": "execute_result"
    }
   ],
   "source": [
    "# Lemmatization\n",
    "\n",
    "nltk.download('wordnet')\n",
    "from textblob import Word\n",
    "df['Tweet'] = df['Tweet'].apply(lambda x: \" \".join([Word(word).lemmatize() for word in x.split()]))\n",
    "df['Tweet'].head()"
   ]
  },
  {
   "cell_type": "markdown",
   "metadata": {},
   "source": [
    "I wanted to extract bigrams from the reviews using the ngrams function of the textblob. I wanted to capture the language structure, like what letter or word is likely to follow the given one. I wanted to work with bigrams to capture general knowlege."
   ]
  },
  {
   "cell_type": "code",
   "execution_count": 31,
   "metadata": {},
   "outputs": [
    {
     "data": {
      "text/plain": [
       "[WordList(['support', 'ud83dudc47nnfarmersprotest'])]"
      ]
     },
     "execution_count": 31,
     "metadata": {},
     "output_type": "execute_result"
    }
   ],
   "source": [
    "TextBlob(df['Tweet'][0]).ngrams(2)"
   ]
  },
  {
   "cell_type": "markdown",
   "metadata": {},
   "source": [
    "#### Term frequency\n",
    "\n",
    "-the ratio of the count of a word present in a sentence, to the length of the sentence."
   ]
  },
  {
   "cell_type": "code",
   "execution_count": 32,
   "metadata": {},
   "outputs": [
    {
     "data": {
      "text/html": [
       "<div>\n",
       "<style scoped>\n",
       "    .dataframe tbody tr th:only-of-type {\n",
       "        vertical-align: middle;\n",
       "    }\n",
       "\n",
       "    .dataframe tbody tr th {\n",
       "        vertical-align: top;\n",
       "    }\n",
       "\n",
       "    .dataframe thead th {\n",
       "        text-align: right;\n",
       "    }\n",
       "</style>\n",
       "<table border=\"1\" class=\"dataframe\">\n",
       "  <thead>\n",
       "    <tr style=\"text-align: right;\">\n",
       "      <th></th>\n",
       "      <th>words</th>\n",
       "      <th>tf</th>\n",
       "    </tr>\n",
       "  </thead>\n",
       "  <tbody>\n",
       "    <tr>\n",
       "      <th>0</th>\n",
       "      <td>supporting</td>\n",
       "      <td>2</td>\n",
       "    </tr>\n",
       "    <tr>\n",
       "      <th>1</th>\n",
       "      <td>mean</td>\n",
       "      <td>1</td>\n",
       "    </tr>\n",
       "    <tr>\n",
       "      <th>2</th>\n",
       "      <td>country</td>\n",
       "      <td>1</td>\n",
       "    </tr>\n",
       "    <tr>\n",
       "      <th>3</th>\n",
       "      <td>httpstcoiwpattk6nv</td>\n",
       "      <td>1</td>\n",
       "    </tr>\n",
       "  </tbody>\n",
       "</table>\n",
       "</div>"
      ],
      "text/plain": [
       "                words  tf\n",
       "0          supporting   2\n",
       "1                mean   1\n",
       "2             country   1\n",
       "3  httpstcoiwpattk6nv   1"
      ]
     },
     "execution_count": 32,
     "metadata": {},
     "output_type": "execute_result"
    }
   ],
   "source": [
    "#term frequency\n",
    "\n",
    "tf1 = (df['Tweet'][1:2]).apply(lambda x: pd.value_counts(x.split(\" \"))).sum(axis = 0).reset_index()\n",
    "tf1.columns = ['words','tf']\n",
    "tf1"
   ]
  },
  {
   "cell_type": "markdown",
   "metadata": {},
   "source": [
    "#### Sentiment Analysis"
   ]
  },
  {
   "cell_type": "code",
   "execution_count": 33,
   "metadata": {},
   "outputs": [
    {
     "data": {
      "text/plain": [
       "0                      (0.0, 0.0)\n",
       "1    (0.0625, 0.3958333333333333)\n",
       "2                      (0.0, 0.4)\n",
       "3                      (0.4, 0.5)\n",
       "4    (-0.11875000000000002, 0.75)\n",
       "Name: Tweet, dtype: object"
      ]
     },
     "execution_count": 33,
     "metadata": {},
     "output_type": "execute_result"
    }
   ],
   "source": [
    "df['Tweet'][:5].apply(lambda x: TextBlob(x).sentiment)"
   ]
  },
  {
   "cell_type": "code",
   "execution_count": 34,
   "metadata": {},
   "outputs": [
    {
     "data": {
      "text/html": [
       "<div>\n",
       "<style scoped>\n",
       "    .dataframe tbody tr th:only-of-type {\n",
       "        vertical-align: middle;\n",
       "    }\n",
       "\n",
       "    .dataframe tbody tr th {\n",
       "        vertical-align: top;\n",
       "    }\n",
       "\n",
       "    .dataframe thead th {\n",
       "        text-align: right;\n",
       "    }\n",
       "</style>\n",
       "<table border=\"1\" class=\"dataframe\">\n",
       "  <thead>\n",
       "    <tr style=\"text-align: right;\">\n",
       "      <th></th>\n",
       "      <th>Tweet</th>\n",
       "      <th>sentiment</th>\n",
       "    </tr>\n",
       "  </thead>\n",
       "  <tbody>\n",
       "    <tr>\n",
       "      <th>0</th>\n",
       "      <td>support ud83dudc47nnfarmersprotest</td>\n",
       "      <td>0.00000</td>\n",
       "    </tr>\n",
       "    <tr>\n",
       "      <th>1</th>\n",
       "      <td>supporting mean supporting country httpstcoiwp...</td>\n",
       "      <td>0.06250</td>\n",
       "    </tr>\n",
       "    <tr>\n",
       "      <th>2</th>\n",
       "      <td>support related food httpstcotcozx4zmyu</td>\n",
       "      <td>0.00000</td>\n",
       "    </tr>\n",
       "    <tr>\n",
       "      <th>3</th>\n",
       "      <td>support pressurising got accept genuine demand</td>\n",
       "      <td>0.40000</td>\n",
       "    </tr>\n",
       "    <tr>\n",
       "      <th>4</th>\n",
       "      <td>hate hate nif love love you! nnstophateagainst...</td>\n",
       "      <td>-0.11875</td>\n",
       "    </tr>\n",
       "  </tbody>\n",
       "</table>\n",
       "</div>"
      ],
      "text/plain": [
       "                                               Tweet  sentiment\n",
       "0                 support ud83dudc47nnfarmersprotest    0.00000\n",
       "1  supporting mean supporting country httpstcoiwp...    0.06250\n",
       "2            support related food httpstcotcozx4zmyu    0.00000\n",
       "3     support pressurising got accept genuine demand    0.40000\n",
       "4  hate hate nif love love you! nnstophateagainst...   -0.11875"
      ]
     },
     "execution_count": 34,
     "metadata": {},
     "output_type": "execute_result"
    }
   ],
   "source": [
    "df['sentiment'] = df['Tweet'].apply(lambda x: TextBlob(x).sentiment[0] )\n",
    "df[['Tweet','sentiment']].head()"
   ]
  },
  {
   "cell_type": "code",
   "execution_count": 35,
   "metadata": {},
   "outputs": [
    {
     "data": {
      "text/html": [
       "<div>\n",
       "<style scoped>\n",
       "    .dataframe tbody tr th:only-of-type {\n",
       "        vertical-align: middle;\n",
       "    }\n",
       "\n",
       "    .dataframe tbody tr th {\n",
       "        vertical-align: top;\n",
       "    }\n",
       "\n",
       "    .dataframe thead th {\n",
       "        text-align: right;\n",
       "    }\n",
       "</style>\n",
       "<table border=\"1\" class=\"dataframe\">\n",
       "  <thead>\n",
       "    <tr style=\"text-align: right;\">\n",
       "      <th></th>\n",
       "      <th>Date</th>\n",
       "      <th>ID</th>\n",
       "      <th>Tweet</th>\n",
       "      <th>word_count</th>\n",
       "      <th>char_count</th>\n",
       "      <th>stopwords</th>\n",
       "      <th>hastags</th>\n",
       "      <th>numerics</th>\n",
       "      <th>upper</th>\n",
       "      <th>sentiment</th>\n",
       "    </tr>\n",
       "  </thead>\n",
       "  <tbody>\n",
       "    <tr>\n",
       "      <th>0</th>\n",
       "      <td>23/03/2020 02:30</td>\n",
       "      <td>1.380000e+18</td>\n",
       "      <td>support ud83dudc47nnfarmersprotest</td>\n",
       "      <td>3</td>\n",
       "      <td>40</td>\n",
       "      <td>0</td>\n",
       "      <td>0</td>\n",
       "      <td>0</td>\n",
       "      <td>0</td>\n",
       "      <td>0.00000</td>\n",
       "    </tr>\n",
       "    <tr>\n",
       "      <th>1</th>\n",
       "      <td>24/03/2020 02:31</td>\n",
       "      <td>1.380000e+18</td>\n",
       "      <td>supporting mean supporting country httpstcoiwp...</td>\n",
       "      <td>10</td>\n",
       "      <td>112</td>\n",
       "      <td>1</td>\n",
       "      <td>2</td>\n",
       "      <td>0</td>\n",
       "      <td>0</td>\n",
       "      <td>0.06250</td>\n",
       "    </tr>\n",
       "    <tr>\n",
       "      <th>2</th>\n",
       "      <td>25/03/2020 02:31</td>\n",
       "      <td>1.380000e+18</td>\n",
       "      <td>support related food httpstcotcozx4zmyu</td>\n",
       "      <td>12</td>\n",
       "      <td>107</td>\n",
       "      <td>4</td>\n",
       "      <td>2</td>\n",
       "      <td>0</td>\n",
       "      <td>0</td>\n",
       "      <td>0.00000</td>\n",
       "    </tr>\n",
       "    <tr>\n",
       "      <th>3</th>\n",
       "      <td>26/03/2020 02:32</td>\n",
       "      <td>1.380000e+18</td>\n",
       "      <td>support pressurising got accept genuine demand</td>\n",
       "      <td>12</td>\n",
       "      <td>104</td>\n",
       "      <td>2</td>\n",
       "      <td>2</td>\n",
       "      <td>0</td>\n",
       "      <td>0</td>\n",
       "      <td>0.40000</td>\n",
       "    </tr>\n",
       "    <tr>\n",
       "      <th>4</th>\n",
       "      <td>27/03/2020 02:32</td>\n",
       "      <td>1.380000e+18</td>\n",
       "      <td>hate hate nif love love you! nnstophateagainst...</td>\n",
       "      <td>17</td>\n",
       "      <td>109</td>\n",
       "      <td>2</td>\n",
       "      <td>0</td>\n",
       "      <td>0</td>\n",
       "      <td>2</td>\n",
       "      <td>-0.11875</td>\n",
       "    </tr>\n",
       "  </tbody>\n",
       "</table>\n",
       "</div>"
      ],
      "text/plain": [
       "               Date            ID  \\\n",
       "0  23/03/2020 02:30  1.380000e+18   \n",
       "1  24/03/2020 02:31  1.380000e+18   \n",
       "2  25/03/2020 02:31  1.380000e+18   \n",
       "3  26/03/2020 02:32  1.380000e+18   \n",
       "4  27/03/2020 02:32  1.380000e+18   \n",
       "\n",
       "                                               Tweet  word_count  char_count  \\\n",
       "0                 support ud83dudc47nnfarmersprotest           3          40   \n",
       "1  supporting mean supporting country httpstcoiwp...          10         112   \n",
       "2            support related food httpstcotcozx4zmyu          12         107   \n",
       "3     support pressurising got accept genuine demand          12         104   \n",
       "4  hate hate nif love love you! nnstophateagainst...          17         109   \n",
       "\n",
       "   stopwords  hastags  numerics  upper  sentiment  \n",
       "0          0        0         0      0    0.00000  \n",
       "1          1        2         0      0    0.06250  \n",
       "2          4        2         0      0    0.00000  \n",
       "3          2        2         0      0    0.40000  \n",
       "4          2        0         0      2   -0.11875  "
      ]
     },
     "execution_count": 35,
     "metadata": {},
     "output_type": "execute_result"
    }
   ],
   "source": [
    "df.head(5)"
   ]
  },
  {
   "cell_type": "markdown",
   "metadata": {
    "id": "VqT2elfcs4tj"
   },
   "source": [
    "**Calculation of Polarity**"
   ]
  },
  {
   "cell_type": "code",
   "execution_count": 36,
   "metadata": {},
   "outputs": [],
   "source": [
    "#adding polarity rating\n",
    "\n",
    "df['Polarity_Rating'] = df['sentiment'].apply(lambda x: 'Positive' if x > 0 else('Neutral' if x == 0 else 'Negative'))"
   ]
  },
  {
   "cell_type": "code",
   "execution_count": 37,
   "metadata": {},
   "outputs": [
    {
     "data": {
      "text/html": [
       "<div>\n",
       "<style scoped>\n",
       "    .dataframe tbody tr th:only-of-type {\n",
       "        vertical-align: middle;\n",
       "    }\n",
       "\n",
       "    .dataframe tbody tr th {\n",
       "        vertical-align: top;\n",
       "    }\n",
       "\n",
       "    .dataframe thead th {\n",
       "        text-align: right;\n",
       "    }\n",
       "</style>\n",
       "<table border=\"1\" class=\"dataframe\">\n",
       "  <thead>\n",
       "    <tr style=\"text-align: right;\">\n",
       "      <th></th>\n",
       "      <th>Date</th>\n",
       "      <th>ID</th>\n",
       "      <th>Tweet</th>\n",
       "      <th>word_count</th>\n",
       "      <th>char_count</th>\n",
       "      <th>stopwords</th>\n",
       "      <th>hastags</th>\n",
       "      <th>numerics</th>\n",
       "      <th>upper</th>\n",
       "      <th>sentiment</th>\n",
       "      <th>Polarity_Rating</th>\n",
       "    </tr>\n",
       "  </thead>\n",
       "  <tbody>\n",
       "    <tr>\n",
       "      <th>0</th>\n",
       "      <td>23/03/2020 02:30</td>\n",
       "      <td>1.380000e+18</td>\n",
       "      <td>support ud83dudc47nnfarmersprotest</td>\n",
       "      <td>3</td>\n",
       "      <td>40</td>\n",
       "      <td>0</td>\n",
       "      <td>0</td>\n",
       "      <td>0</td>\n",
       "      <td>0</td>\n",
       "      <td>0.00000</td>\n",
       "      <td>Neutral</td>\n",
       "    </tr>\n",
       "    <tr>\n",
       "      <th>1</th>\n",
       "      <td>24/03/2020 02:31</td>\n",
       "      <td>1.380000e+18</td>\n",
       "      <td>supporting mean supporting country httpstcoiwp...</td>\n",
       "      <td>10</td>\n",
       "      <td>112</td>\n",
       "      <td>1</td>\n",
       "      <td>2</td>\n",
       "      <td>0</td>\n",
       "      <td>0</td>\n",
       "      <td>0.06250</td>\n",
       "      <td>Positive</td>\n",
       "    </tr>\n",
       "    <tr>\n",
       "      <th>2</th>\n",
       "      <td>25/03/2020 02:31</td>\n",
       "      <td>1.380000e+18</td>\n",
       "      <td>support related food httpstcotcozx4zmyu</td>\n",
       "      <td>12</td>\n",
       "      <td>107</td>\n",
       "      <td>4</td>\n",
       "      <td>2</td>\n",
       "      <td>0</td>\n",
       "      <td>0</td>\n",
       "      <td>0.00000</td>\n",
       "      <td>Neutral</td>\n",
       "    </tr>\n",
       "    <tr>\n",
       "      <th>3</th>\n",
       "      <td>26/03/2020 02:32</td>\n",
       "      <td>1.380000e+18</td>\n",
       "      <td>support pressurising got accept genuine demand</td>\n",
       "      <td>12</td>\n",
       "      <td>104</td>\n",
       "      <td>2</td>\n",
       "      <td>2</td>\n",
       "      <td>0</td>\n",
       "      <td>0</td>\n",
       "      <td>0.40000</td>\n",
       "      <td>Positive</td>\n",
       "    </tr>\n",
       "    <tr>\n",
       "      <th>4</th>\n",
       "      <td>27/03/2020 02:32</td>\n",
       "      <td>1.380000e+18</td>\n",
       "      <td>hate hate nif love love you! nnstophateagainst...</td>\n",
       "      <td>17</td>\n",
       "      <td>109</td>\n",
       "      <td>2</td>\n",
       "      <td>0</td>\n",
       "      <td>0</td>\n",
       "      <td>2</td>\n",
       "      <td>-0.11875</td>\n",
       "      <td>Negative</td>\n",
       "    </tr>\n",
       "  </tbody>\n",
       "</table>\n",
       "</div>"
      ],
      "text/plain": [
       "               Date            ID  \\\n",
       "0  23/03/2020 02:30  1.380000e+18   \n",
       "1  24/03/2020 02:31  1.380000e+18   \n",
       "2  25/03/2020 02:31  1.380000e+18   \n",
       "3  26/03/2020 02:32  1.380000e+18   \n",
       "4  27/03/2020 02:32  1.380000e+18   \n",
       "\n",
       "                                               Tweet  word_count  char_count  \\\n",
       "0                 support ud83dudc47nnfarmersprotest           3          40   \n",
       "1  supporting mean supporting country httpstcoiwp...          10         112   \n",
       "2            support related food httpstcotcozx4zmyu          12         107   \n",
       "3     support pressurising got accept genuine demand          12         104   \n",
       "4  hate hate nif love love you! nnstophateagainst...          17         109   \n",
       "\n",
       "   stopwords  hastags  numerics  upper  sentiment Polarity_Rating  \n",
       "0          0        0         0      0    0.00000         Neutral  \n",
       "1          1        2         0      0    0.06250        Positive  \n",
       "2          4        2         0      0    0.00000         Neutral  \n",
       "3          2        2         0      0    0.40000        Positive  \n",
       "4          2        0         0      2   -0.11875        Negative  "
      ]
     },
     "execution_count": 37,
     "metadata": {},
     "output_type": "execute_result"
    }
   ],
   "source": [
    "df.head()"
   ]
  },
  {
   "cell_type": "code",
   "execution_count": 38,
   "metadata": {},
   "outputs": [],
   "source": [
    "df.to_csv('FarmersSentimentsdataset.csv')"
   ]
  },
  {
   "cell_type": "markdown",
   "metadata": {
    "id": "lMD-lue81NME"
   },
   "source": [
    "**Plot the Rating visualization graph**"
   ]
  },
  {
   "cell_type": "code",
   "execution_count": 39,
   "metadata": {
    "colab": {
     "base_uri": "https://localhost:8080/",
     "height": 297
    },
    "id": "EwQ5_FWh1R-p",
    "outputId": "1db2e56f-a522-400a-8edf-235f14cd73dd"
   },
   "outputs": [
    {
     "data": {
      "text/plain": [
       "<AxesSubplot:xlabel='sentiment', ylabel='count'>"
      ]
     },
     "execution_count": 39,
     "metadata": {},
     "output_type": "execute_result"
    },
    {
     "data": {
      "image/png": "[encoded data removed]",
      "text/plain": [
       "<Figure size 432x288 with 1 Axes>"
      ]
     },
     "metadata": {},
     "output_type": "display_data"
    }
   ],
   "source": [
    "sns.set_style('whitegrid')\n",
    "sns.countplot(x='sentiment',data=df, palette='YlGnBu_r')"
   ]
  },
  {
   "cell_type": "markdown",
   "metadata": {
    "id": "cObGcj-R1_Uf"
   },
   "source": [
    "**Plot the Polarity Rating count**"
   ]
  },
  {
   "cell_type": "code",
   "execution_count": 40,
   "metadata": {
    "colab": {
     "base_uri": "https://localhost:8080/",
     "height": 297
    },
    "id": "TglKEwxS2DcK",
    "outputId": "32a9bc27-7a55-450e-c1fd-e3380a0af5d1"
   },
   "outputs": [
    {
     "data": {
      "text/plain": [
       "<AxesSubplot:xlabel='Polarity_Rating', ylabel='count'>"
      ]
     },
     "execution_count": 40,
     "metadata": {},
     "output_type": "execute_result"
    },
    {
     "data": {
      "image/png": "[encoded data removed]",
      "text/plain": [
       "<Figure size 432x288 with 1 Axes>"
      ]
     },
     "metadata": {},
     "output_type": "display_data"
    }
   ],
   "source": [
    "sns.set_style('whitegrid')\n",
    "sns.countplot(x='Polarity_Rating',data=df, palette='summer')"
   ]
  },
  {
   "cell_type": "markdown",
   "metadata": {
    "id": "l2ppN_Gj3MXZ"
   },
   "source": [
    "**Data Preprocessing**"
   ]
  },
  {
   "cell_type": "code",
   "execution_count": 41,
   "metadata": {
    "id": "KMryD2Ok3PbF"
   },
   "outputs": [],
   "source": [
    "df_Positive = df[df['Polarity_Rating'] == 'Positive'][0:8000]\n",
    "df_Neutral = df[df['Polarity_Rating'] == 'Neutral']\n",
    "df_Negative = df[df['Polarity_Rating'] == 'Negative']"
   ]
  },
  {
   "cell_type": "markdown",
   "metadata": {
    "id": "mUZim1eA3qDF"
   },
   "source": [
    "**Sample negative and neutral polarity dataset and create final dataframe**"
   ]
  },
  {
   "cell_type": "code",
   "execution_count": 42,
   "metadata": {
    "id": "9PqqFadV4Qaf"
   },
   "outputs": [],
   "source": [
    "df_Neutral_over = df_Neutral.sample(800, replace=True)\n",
    "df_Negative_over = df_Negative.sample(800, replace=True)\n",
    "df = pd.concat([df_Positive, df_Neutral_over, df_Negative_over], axis=0)"
   ]
  },
  {
   "cell_type": "markdown",
   "metadata": {
    "id": "B3so3XNt5PXg"
   },
   "source": [
    "**Text Preprocessing**"
   ]
  },
  {
   "cell_type": "code",
   "execution_count": 43,
   "metadata": {
    "id": "mvi7pt-d5R6E"
   },
   "outputs": [],
   "source": [
    "def get_text_processing(text):\n",
    "    stpword = stopwords.words('english')\n",
    "    no_punctuation = [char for char in text if char not in string.punctuation]\n",
    "    no_punctuation = ''.join(no_punctuation)\n",
    "    return ' '.join([word for word in no_punctuation.split() if word.lower() not in stpword])"
   ]
  },
  {
   "cell_type": "markdown",
   "metadata": {
    "id": "1F75BGMk5zbT"
   },
   "source": [
    "**Apply the method \"get_text_processing\" into column review text**"
   ]
  },
  {
   "cell_type": "code",
   "execution_count": 44,
   "metadata": {
    "colab": {
     "base_uri": "https://localhost:8080/",
     "height": 306
    },
    "id": "52_Rbc3p5953",
    "outputId": "5e231d9d-8ea7-4821-d0a6-e8f956efb97f",
    "scrolled": true
   },
   "outputs": [
    {
     "data": {
      "text/html": [
       "<div>\n",
       "<style scoped>\n",
       "    .dataframe tbody tr th:only-of-type {\n",
       "        vertical-align: middle;\n",
       "    }\n",
       "\n",
       "    .dataframe tbody tr th {\n",
       "        vertical-align: top;\n",
       "    }\n",
       "\n",
       "    .dataframe thead th {\n",
       "        text-align: right;\n",
       "    }\n",
       "</style>\n",
       "<table border=\"1\" class=\"dataframe\">\n",
       "  <thead>\n",
       "    <tr style=\"text-align: right;\">\n",
       "      <th></th>\n",
       "      <th>Date</th>\n",
       "      <th>ID</th>\n",
       "      <th>Tweet</th>\n",
       "      <th>word_count</th>\n",
       "      <th>char_count</th>\n",
       "      <th>stopwords</th>\n",
       "      <th>hastags</th>\n",
       "      <th>numerics</th>\n",
       "      <th>upper</th>\n",
       "      <th>sentiment</th>\n",
       "      <th>Polarity_Rating</th>\n",
       "      <th>Tweettext</th>\n",
       "    </tr>\n",
       "  </thead>\n",
       "  <tbody>\n",
       "    <tr>\n",
       "      <th>1</th>\n",
       "      <td>24/03/2020 02:31</td>\n",
       "      <td>1.380000e+18</td>\n",
       "      <td>supporting mean supporting country httpstcoiwp...</td>\n",
       "      <td>10</td>\n",
       "      <td>112</td>\n",
       "      <td>1</td>\n",
       "      <td>2</td>\n",
       "      <td>0</td>\n",
       "      <td>0</td>\n",
       "      <td>0.0625</td>\n",
       "      <td>Positive</td>\n",
       "      <td>supporting mean supporting country httpstcoiwp...</td>\n",
       "    </tr>\n",
       "    <tr>\n",
       "      <th>3</th>\n",
       "      <td>26/03/2020 02:32</td>\n",
       "      <td>1.380000e+18</td>\n",
       "      <td>support pressurising got accept genuine demand</td>\n",
       "      <td>12</td>\n",
       "      <td>104</td>\n",
       "      <td>2</td>\n",
       "      <td>2</td>\n",
       "      <td>0</td>\n",
       "      <td>0</td>\n",
       "      <td>0.4000</td>\n",
       "      <td>Positive</td>\n",
       "      <td>support pressurising got accept genuine demand</td>\n",
       "    </tr>\n",
       "    <tr>\n",
       "      <th>5</th>\n",
       "      <td>28/03/2020 02:32</td>\n",
       "      <td>1.380000e+18</td>\n",
       "      <td>cant look like gundas good time seem violence ...</td>\n",
       "      <td>21</td>\n",
       "      <td>143</td>\n",
       "      <td>5</td>\n",
       "      <td>1</td>\n",
       "      <td>0</td>\n",
       "      <td>0</td>\n",
       "      <td>0.7000</td>\n",
       "      <td>Positive</td>\n",
       "      <td>cant look like gundas good time seem violence ...</td>\n",
       "    </tr>\n",
       "    <tr>\n",
       "      <th>7</th>\n",
       "      <td>30/03/2020 02:33</td>\n",
       "      <td>1.380000e+18</td>\n",
       "      <td>troll48611422 doabapunjab1 terminator00096 har...</td>\n",
       "      <td>52</td>\n",
       "      <td>417</td>\n",
       "      <td>16</td>\n",
       "      <td>1</td>\n",
       "      <td>0</td>\n",
       "      <td>0</td>\n",
       "      <td>0.9000</td>\n",
       "      <td>Positive</td>\n",
       "      <td>troll48611422 doabapunjab1 terminator00096 har...</td>\n",
       "    </tr>\n",
       "    <tr>\n",
       "      <th>8</th>\n",
       "      <td>31/03/2020 02:33</td>\n",
       "      <td>1.380000e+18</td>\n",
       "      <td>neutrality help oppressor never victim nnsilen...</td>\n",
       "      <td>20</td>\n",
       "      <td>164</td>\n",
       "      <td>6</td>\n",
       "      <td>0</td>\n",
       "      <td>0</td>\n",
       "      <td>0</td>\n",
       "      <td>0.0375</td>\n",
       "      <td>Positive</td>\n",
       "      <td>neutrality help oppressor never victim nnsilen...</td>\n",
       "    </tr>\n",
       "  </tbody>\n",
       "</table>\n",
       "</div>"
      ],
      "text/plain": [
       "               Date            ID  \\\n",
       "1  24/03/2020 02:31  1.380000e+18   \n",
       "3  26/03/2020 02:32  1.380000e+18   \n",
       "5  28/03/2020 02:32  1.380000e+18   \n",
       "7  30/03/2020 02:33  1.380000e+18   \n",
       "8  31/03/2020 02:33  1.380000e+18   \n",
       "\n",
       "                                               Tweet  word_count  char_count  \\\n",
       "1  supporting mean supporting country httpstcoiwp...          10         112   \n",
       "3     support pressurising got accept genuine demand          12         104   \n",
       "5  cant look like gundas good time seem violence ...          21         143   \n",
       "7  troll48611422 doabapunjab1 terminator00096 har...          52         417   \n",
       "8  neutrality help oppressor never victim nnsilen...          20         164   \n",
       "\n",
       "   stopwords  hastags  numerics  upper  sentiment Polarity_Rating  \\\n",
       "1          1        2         0      0     0.0625        Positive   \n",
       "3          2        2         0      0     0.4000        Positive   \n",
       "5          5        1         0      0     0.7000        Positive   \n",
       "7         16        1         0      0     0.9000        Positive   \n",
       "8          6        0         0      0     0.0375        Positive   \n",
       "\n",
       "                                           Tweettext  \n",
       "1  supporting mean supporting country httpstcoiwp...  \n",
       "3     support pressurising got accept genuine demand  \n",
       "5  cant look like gundas good time seem violence ...  \n",
       "7  troll48611422 doabapunjab1 terminator00096 har...  \n",
       "8  neutrality help oppressor never victim nnsilen...  "
      ]
     },
     "execution_count": 44,
     "metadata": {},
     "output_type": "execute_result"
    }
   ],
   "source": [
    "df['Tweettext'] = df['Tweet'].apply(get_text_processing)\n",
    "df.head()"
   ]
  },
  {
   "cell_type": "markdown",
   "metadata": {
    "id": "Fhxnn-pj7R6P"
   },
   "source": [
    "**Visualize Text Review with Polarity Rating**"
   ]
  },
  {
   "cell_type": "code",
   "execution_count": 45,
   "metadata": {
    "colab": {
     "base_uri": "https://localhost:8080/",
     "height": 202
    },
    "id": "yFeqv9LG7N5N",
    "outputId": "a06a4655-55ed-4748-e2c4-90d8820c70b1"
   },
   "outputs": [
    {
     "data": {
      "text/html": [
       "<div>\n",
       "<style scoped>\n",
       "    .dataframe tbody tr th:only-of-type {\n",
       "        vertical-align: middle;\n",
       "    }\n",
       "\n",
       "    .dataframe tbody tr th {\n",
       "        vertical-align: top;\n",
       "    }\n",
       "\n",
       "    .dataframe thead th {\n",
       "        text-align: right;\n",
       "    }\n",
       "</style>\n",
       "<table border=\"1\" class=\"dataframe\">\n",
       "  <thead>\n",
       "    <tr style=\"text-align: right;\">\n",
       "      <th></th>\n",
       "      <th>Tweet</th>\n",
       "      <th>Polarity_Rating</th>\n",
       "    </tr>\n",
       "  </thead>\n",
       "  <tbody>\n",
       "    <tr>\n",
       "      <th>1</th>\n",
       "      <td>supporting mean supporting country httpstcoiwp...</td>\n",
       "      <td>Positive</td>\n",
       "    </tr>\n",
       "    <tr>\n",
       "      <th>3</th>\n",
       "      <td>support pressurising got accept genuine demand</td>\n",
       "      <td>Positive</td>\n",
       "    </tr>\n",
       "    <tr>\n",
       "      <th>5</th>\n",
       "      <td>cant look like gundas good time seem violence ...</td>\n",
       "      <td>Positive</td>\n",
       "    </tr>\n",
       "    <tr>\n",
       "      <th>7</th>\n",
       "      <td>troll48611422 doabapunjab1 terminator00096 har...</td>\n",
       "      <td>Positive</td>\n",
       "    </tr>\n",
       "    <tr>\n",
       "      <th>8</th>\n",
       "      <td>neutrality help oppressor never victim nnsilen...</td>\n",
       "      <td>Positive</td>\n",
       "    </tr>\n",
       "  </tbody>\n",
       "</table>\n",
       "</div>"
      ],
      "text/plain": [
       "                                               Tweet Polarity_Rating\n",
       "1  supporting mean supporting country httpstcoiwp...        Positive\n",
       "3     support pressurising got accept genuine demand        Positive\n",
       "5  cant look like gundas good time seem violence ...        Positive\n",
       "7  troll48611422 doabapunjab1 terminator00096 har...        Positive\n",
       "8  neutrality help oppressor never victim nnsilen...        Positive"
      ]
     },
     "execution_count": 45,
     "metadata": {},
     "output_type": "execute_result"
    }
   ],
   "source": [
    "df = df[['Tweet', 'Polarity_Rating']]\n",
    "df.head()"
   ]
  },
  {
   "cell_type": "code",
   "execution_count": 46,
   "metadata": {},
   "outputs": [
    {
     "data": {
      "text/plain": [
       "(1977, 2)"
      ]
     },
     "execution_count": 46,
     "metadata": {},
     "output_type": "execute_result"
    }
   ],
   "source": [
    "df.shape"
   ]
  },
  {
   "cell_type": "markdown",
   "metadata": {
    "id": "rwpsuZPk8HCS"
   },
   "source": [
    "**Apply One hot encoding on negative, neutral, and positive**"
   ]
  },
  {
   "cell_type": "code",
   "execution_count": 47,
   "metadata": {
    "colab": {
     "base_uri": "https://localhost:8080/",
     "height": 202
    },
    "id": "lHrXiYDQ8Pj6",
    "outputId": "a80ce8f8-e4f3-4a6a-9f39-0f95d17d0007"
   },
   "outputs": [
    {
     "data": {
      "text/html": [
       "<div>\n",
       "<style scoped>\n",
       "    .dataframe tbody tr th:only-of-type {\n",
       "        vertical-align: middle;\n",
       "    }\n",
       "\n",
       "    .dataframe tbody tr th {\n",
       "        vertical-align: top;\n",
       "    }\n",
       "\n",
       "    .dataframe thead th {\n",
       "        text-align: right;\n",
       "    }\n",
       "</style>\n",
       "<table border=\"1\" class=\"dataframe\">\n",
       "  <thead>\n",
       "    <tr style=\"text-align: right;\">\n",
       "      <th></th>\n",
       "      <th>Tweet</th>\n",
       "      <th>Negative</th>\n",
       "      <th>Neutral</th>\n",
       "      <th>Positive</th>\n",
       "    </tr>\n",
       "  </thead>\n",
       "  <tbody>\n",
       "    <tr>\n",
       "      <th>1</th>\n",
       "      <td>supporting mean supporting country httpstcoiwp...</td>\n",
       "      <td>0</td>\n",
       "      <td>0</td>\n",
       "      <td>1</td>\n",
       "    </tr>\n",
       "    <tr>\n",
       "      <th>3</th>\n",
       "      <td>support pressurising got accept genuine demand</td>\n",
       "      <td>0</td>\n",
       "      <td>0</td>\n",
       "      <td>1</td>\n",
       "    </tr>\n",
       "    <tr>\n",
       "      <th>5</th>\n",
       "      <td>cant look like gundas good time seem violence ...</td>\n",
       "      <td>0</td>\n",
       "      <td>0</td>\n",
       "      <td>1</td>\n",
       "    </tr>\n",
       "    <tr>\n",
       "      <th>7</th>\n",
       "      <td>troll48611422 doabapunjab1 terminator00096 har...</td>\n",
       "      <td>0</td>\n",
       "      <td>0</td>\n",
       "      <td>1</td>\n",
       "    </tr>\n",
       "    <tr>\n",
       "      <th>8</th>\n",
       "      <td>neutrality help oppressor never victim nnsilen...</td>\n",
       "      <td>0</td>\n",
       "      <td>0</td>\n",
       "      <td>1</td>\n",
       "    </tr>\n",
       "  </tbody>\n",
       "</table>\n",
       "</div>"
      ],
      "text/plain": [
       "                                               Tweet  Negative  Neutral  \\\n",
       "1  supporting mean supporting country httpstcoiwp...         0        0   \n",
       "3     support pressurising got accept genuine demand         0        0   \n",
       "5  cant look like gundas good time seem violence ...         0        0   \n",
       "7  troll48611422 doabapunjab1 terminator00096 har...         0        0   \n",
       "8  neutrality help oppressor never victim nnsilen...         0        0   \n",
       "\n",
       "   Positive  \n",
       "1         1  \n",
       "3         1  \n",
       "5         1  \n",
       "7         1  \n",
       "8         1  "
      ]
     },
     "execution_count": 47,
     "metadata": {},
     "output_type": "execute_result"
    }
   ],
   "source": [
    "one_hot = pd.get_dummies(df[\"Polarity_Rating\"])\n",
    "df.drop(['Polarity_Rating'],axis=1,inplace=True)\n",
    "df = pd.concat([df,one_hot],axis=1)\n",
    "df.head()"
   ]
  },
  {
   "cell_type": "markdown",
   "metadata": {
    "id": "O63qBfKuE2nu"
   },
   "source": [
    "**Apply Train Test Split**"
   ]
  },
  {
   "cell_type": "code",
   "execution_count": 48,
   "metadata": {
    "id": "6PNWLYhME7Pf"
   },
   "outputs": [],
   "source": [
    "X = df['Tweet'].values\n",
    "y = df.drop('Tweet', axis=1).values\n",
    "X_train, X_test, y_train, y_test = train_test_split(X, y, test_size=0.30, random_state=42)"
   ]
  },
  {
   "cell_type": "markdown",
   "metadata": {
    "id": "AuADdT8UFgOy"
   },
   "source": [
    "**Apply vectorization**"
   ]
  },
  {
   "cell_type": "code",
   "execution_count": 49,
   "metadata": {
    "id": "r20vXgZ6Fvqw"
   },
   "outputs": [],
   "source": [
    "vect = CountVectorizer()\n",
    "X_train = vect.fit_transform(X_train)\n",
    "X_test = vect.transform(X_test)"
   ]
  },
  {
   "cell_type": "markdown",
   "metadata": {
    "id": "akiDMHsvGNxD"
   },
   "source": [
    "**Apply frequency, inverse document frequency:**"
   ]
  },
  {
   "cell_type": "code",
   "execution_count": 50,
   "metadata": {
    "id": "_q3-ppruGRz7"
   },
   "outputs": [],
   "source": [
    "tfidf = TfidfTransformer()\n",
    "X_train = tfidf.fit_transform(X_train)\n",
    "X_test = tfidf.transform(X_test)\n",
    "X_train = X_train.toarray()\n",
    "X_test = X_test.toarray()"
   ]
  },
  {
   "cell_type": "markdown",
   "metadata": {
    "id": "rXV_Xf5kHB73"
   },
   "source": [
    "**Add different layers**"
   ]
  },
  {
   "cell_type": "code",
   "execution_count": 51,
   "metadata": {
    "id": "-Su4eu41HAUT"
   },
   "outputs": [],
   "source": [
    "model = Sequential()\n",
    "\n",
    "model.add(Dense(units=12673,activation='relu'))\n",
    "model.add(Dropout(0.5))\n",
    "\n",
    "model.add(Dense(units=4000,activation='relu'))\n",
    "model.add(Dropout(0.5))\n",
    "\n",
    "model.add(Dense(units=500,activation='relu'))\n",
    "model.add(Dropout(0.5))\n",
    "\n",
    "model.add(Dense(units=3, activation='softmax'))\n",
    "\n",
    "opt=tf.keras.optimizers.Adam(learning_rate=0.001)\n",
    "model.compile(loss='categorical_crossentropy', optimizer=opt, metrics=['accuracy'])\n",
    "\n",
    "early_stop = EarlyStopping(monitor='val_loss', mode='min', verbose=1, patience=2)"
   ]
  },
  {
   "cell_type": "code",
   "execution_count": 52,
   "metadata": {},
   "outputs": [
    {
     "name": "stderr",
     "output_type": "stream",
     "text": [
      "The system cannot find the path specified.\n"
     ]
    }
   ],
   "source": [
    "!echo 1 > /proc/sys/vm/overcommit_memory"
   ]
  },
  {
   "cell_type": "markdown",
   "metadata": {
    "id": "NYGn2m1lIFvo"
   },
   "source": [
    "**Fit the Model**"
   ]
  },
  {
   "cell_type": "code",
   "execution_count": 53,
   "metadata": {
    "colab": {
     "base_uri": "https://localhost:8080/"
    },
    "id": "NtKRqIcYIEev",
    "outputId": "0de54d2f-bc01-4606-e290-1f0b216baab5"
   },
   "outputs": [
    {
     "name": "stdout",
     "output_type": "stream",
     "text": [
      "Epoch 1/100\n",
      "6/6 [==============================] - 15s 2s/step - loss: 0.9956 - accuracy: 0.5278 - val_loss: 0.6852 - val_accuracy: 0.7290\n",
      "Epoch 2/100\n",
      "6/6 [==============================] - 9s 1s/step - loss: 0.4219 - accuracy: 0.8055 - val_loss: 0.3563 - val_accuracy: 0.8502\n",
      "Epoch 3/100\n",
      "6/6 [==============================] - 8s 1s/step - loss: 0.1021 - accuracy: 0.9826 - val_loss: 0.5001 - val_accuracy: 0.8401\n",
      "Epoch 4/100\n",
      "6/6 [==============================] - 9s 2s/step - loss: 0.0137 - accuracy: 0.9971 - val_loss: 0.7595 - val_accuracy: 0.8552\n",
      "Epoch 4: early stopping\n"
     ]
    },
    {
     "data": {
      "text/plain": [
       "<keras.callbacks.History at 0x205f8346430>"
      ]
     },
     "execution_count": 53,
     "metadata": {},
     "output_type": "execute_result"
    }
   ],
   "source": [
    "model.fit(x=X_train, y=y_train, batch_size=256, epochs=100, validation_data=(X_test, y_test), verbose=1, callbacks=early_stop)"
   ]
  },
  {
   "cell_type": "markdown",
   "metadata": {
    "id": "mOSbaNrqJBeP"
   },
   "source": [
    "**Evaluation of Model**"
   ]
  },
  {
   "cell_type": "code",
   "execution_count": 54,
   "metadata": {
    "id": "ZTsIgolQJD2M"
   },
   "outputs": [
    {
     "name": "stdout",
     "output_type": "stream",
     "text": [
      "297/297 [==============================] - 10s 33ms/step - loss: 0.7595 - accuracy: 0.8552\n",
      "Test accuracy: 0.8552188277244568\n"
     ]
    }
   ],
   "source": [
    "model_score = model.evaluate(X_test, y_test, batch_size=2, verbose=1)\n",
    "print('Test accuracy:', model_score[1])"
   ]
  },
  {
   "cell_type": "code",
   "execution_count": 55,
   "metadata": {},
   "outputs": [
    {
     "name": "stdout",
     "output_type": "stream",
     "text": [
      "<class 'pandas.core.frame.DataFrame'>\n",
      "Int64Index: 1977 entries, 1 to 1236\n",
      "Data columns (total 4 columns):\n",
      " #   Column    Non-Null Count  Dtype \n",
      "---  ------    --------------  ----- \n",
      " 0   Tweet     1977 non-null   object\n",
      " 1   Negative  1977 non-null   uint8 \n",
      " 2   Neutral   1977 non-null   uint8 \n",
      " 3   Positive  1977 non-null   uint8 \n",
      "dtypes: object(1), uint8(3)\n",
      "memory usage: 386.7 KB\n"
     ]
    }
   ],
   "source": [
    "df.info(memory_usage=\"deep\")"
   ]
  },
  {
   "cell_type": "markdown",
   "metadata": {
    "id": "s6c7yRFKJUK4"
   },
   "source": [
    "**Prediction**"
   ]
  },
  {
   "cell_type": "code",
   "execution_count": 56,
   "metadata": {
    "id": "Q34Yb_0pJW3r"
   },
   "outputs": [
    {
     "name": "stdout",
     "output_type": "stream",
     "text": [
      "19/19 [==============================] - 2s 102ms/step\n"
     ]
    },
    {
     "data": {
      "text/plain": [
       "array([[1.00000000e+00, 2.90081942e-18, 1.94853875e-08],\n",
       "       [9.99999881e-01, 3.84569237e-16, 1.04290436e-07],\n",
       "       [1.04863229e-05, 4.30287458e-02, 9.56960738e-01],\n",
       "       ...,\n",
       "       [9.99999881e-01, 2.55887303e-16, 1.59724010e-07],\n",
       "       [1.61217724e-21, 1.00000000e+00, 6.10841724e-11],\n",
       "       [3.61876951e-13, 9.99992609e-01, 7.41790564e-06]], dtype=float32)"
      ]
     },
     "execution_count": 56,
     "metadata": {},
     "output_type": "execute_result"
    }
   ],
   "source": [
    "preds = model.predict(X_test)\n",
    "preds"
   ]
  },
  {
   "cell_type": "code",
   "execution_count": 57,
   "metadata": {},
   "outputs": [
    {
     "data": {
      "text/plain": [
       "(594, 3)"
      ]
     },
     "execution_count": 57,
     "metadata": {},
     "output_type": "execute_result"
    }
   ],
   "source": [
    "preds.shape"
   ]
  },
  {
   "cell_type": "code",
   "execution_count": null,
   "metadata": {},
   "outputs": [],
   "source": []
  },
  {
   "cell_type": "code",
   "execution_count": null,
   "metadata": {},
   "outputs": [],
   "source": []
  }
 ],
 "metadata": {
  "colab": {
   "include_colab_link": true,
   "name": "sentiment_analysis_tutorial.ipynb",
   "provenance": []
  },
  "kernelspec": {
   "display_name": "Python 3 (ipykernel)",
   "language": "python",
   "name": "python3"
  },
  "language_info": {
   "codemirror_mode": {
    "name": "ipython",
    "version": 3
   },
   "file_extension": ".py",
   "mimetype": "text/x-python",
   "name": "python",
   "nbconvert_exporter": "python",
   "pygments_lexer": "ipython3",
   "version": "3.9.12"
  }
 },
 "nbformat": 4,
 "nbformat_minor": 1
}
